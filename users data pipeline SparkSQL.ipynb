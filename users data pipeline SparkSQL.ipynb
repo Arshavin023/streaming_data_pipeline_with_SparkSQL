{
 "cells": [
  {
   "cell_type": "code",
   "execution_count": 1,
   "id": "8d555cec",
   "metadata": {},
   "outputs": [],
   "source": [
    "import pandas as pd"
   ]
  },
  {
   "cell_type": "code",
   "execution_count": 2,
   "id": "9a5dd650",
   "metadata": {},
   "outputs": [],
   "source": [
    "users = pd.read_csv('users.csv')"
   ]
  },
  {
   "cell_type": "markdown",
   "id": "2b11fb64",
   "metadata": {},
   "source": [
    "### Create streaming bronze table"
   ]
  },
  {
   "cell_type": "code",
   "execution_count": null,
   "id": "79765729",
   "metadata": {},
   "outputs": [],
   "source": [
    "# Load only users and updated users data everytime pipeline loads\n",
    "CREATE STREAMING LIVE TABLE Users_BronzeLiveIncremental\n",
    "\n",
    "-- optionally define the schema\n",
    "\n",
    "\n",
    "USING DELTA \n",
    "\n",
    "PARTITIONED BY (product_id)\n",
    "\n",
    "COMMENT \"Live Bronze table for LoanApplications\"\n",
    "\n",
    "AS\n",
    "\n",
    "SELECT  user_id::Int, first_name::String, last_name::String gender::String, \n",
    "        avg_airtime::Double, date_of_birth::Date, education_status::String, \n",
    "        employment_status::String, bank::String, monthly_income::Double,\n",
    "        number_children::Int, owns_car::Boolean, payment_system::String,\n",
    "        state_of_origin: String, professional_category::String, email_is_validated::Boolean,\n",
    "                                \n",
    "        INPUT_FILE_NAME() AS FileName\n",
    "        CURRENT_TIMESTAMP() AS CreatedOn\n",
    "        \n",
    "FROM cloud_files(\n",
    "    \n",
    "                    \"/mtn/datalake/Raw/Users/\",\n",
    "                    \"csv\",\n",
    "                    map(\"inferSchema\",\"true\")\n",
    "                )"
   ]
  },
  {
   "cell_type": "markdown",
   "id": "be1c1743",
   "metadata": {},
   "source": [
    "### Create streaming bronze view"
   ]
  },
  {
   "cell_type": "code",
   "execution_count": null,
   "id": "68102b14",
   "metadata": {},
   "outputs": [],
   "source": [
    "CREATE STREAMING LIVE VIEW Users_BronzeLiveIncrementalView\n",
    "(    \n",
    "    CONSTRAINT Valid_user_id   EXPECT (user_id IS NOT NULL AND user_id > 0) ON VIOLATION FAIL UPDATE\n",
    ")\n",
    "\n",
    "AS\n",
    "\n",
    "SELECT  user_id, first_name, last_name, gender, avg_airtime, date_of_birth, \n",
    "        education_status, employment_status, bank, monthly_income, number_of_children, \n",
    "        owns_car, state_of_origin, professional_category, CreatedOn,\n",
    "        DATEDIFF(CURRENT_DATE(), date_of_birth) / 365.25 AS age\n",
    "\n",
    "FROM STREAM(live.UsersBronzeLiveIncremental)"
   ]
  },
  {
   "cell_type": "code",
   "execution_count": null,
   "id": "41698788",
   "metadata": {},
   "outputs": [],
   "source": []
  },
  {
   "cell_type": "markdown",
   "id": "eaf702b8",
   "metadata": {},
   "source": [
    "### Create live table"
   ]
  },
  {
   "cell_type": "code",
   "execution_count": null,
   "id": "94c39c41",
   "metadata": {},
   "outputs": [],
   "source": [
    "CREATE LIVE TABLE ExistingUsers_BronzeLive\n",
    "\n",
    "COMMENT \"Bronze Live Table Existing Users\"\n",
    "\n",
    "AS\n",
    "\n",
    "SELECT *\n",
    "FROM parquet.`/mnt/datalake/Raw/users.parquet`"
   ]
  },
  {
   "cell_type": "code",
   "execution_count": null,
   "id": "10cf3bbf",
   "metadata": {},
   "outputs": [],
   "source": []
  },
  {
   "cell_type": "markdown",
   "id": "c284571b",
   "metadata": {},
   "source": [
    "### Merge into Existing Users incrementally"
   ]
  },
  {
   "cell_type": "code",
   "execution_count": null,
   "id": "5ad50b75",
   "metadata": {},
   "outputs": [],
   "source": [
    "APPLY CHANGES INTO live.ExistingUsers_BronzeLive\n",
    "\n",
    "FROM STREAM(Users_BronzeLiveIncrementalView)\n",
    "\n",
    "KEYS (user_id)\n",
    "\n",
    "\n",
    "# APPLY AS DELETE WHEN OPERATION = 'DELETE'\n",
    "\n",
    "SEQUENCE BY CreatedOn"
   ]
  }
 ],
 "metadata": {
  "kernelspec": {
   "display_name": "Python 3 (ipykernel)",
   "language": "python",
   "name": "python3"
  },
  "language_info": {
   "codemirror_mode": {
    "name": "ipython",
    "version": 3
   },
   "file_extension": ".py",
   "mimetype": "text/x-python",
   "name": "python",
   "nbconvert_exporter": "python",
   "pygments_lexer": "ipython3",
   "version": "3.10.9"
  }
 },
 "nbformat": 4,
 "nbformat_minor": 5
}
