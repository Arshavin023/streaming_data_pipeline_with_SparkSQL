{
 "cells": [
  {
   "cell_type": "markdown",
   "id": "f65c2e09",
   "metadata": {},
   "source": [
    "### Create streaming bronze table"
   ]
  },
  {
   "cell_type": "code",
   "execution_count": null,
   "id": "d4d6670d",
   "metadata": {},
   "outputs": [],
   "source": [
    "# Load only new applications data everytime pipeline loads\n",
    "\n",
    "CREATE STREAMING LIVE TABLE LoanApplications_BronzeLiveIncremental\n",
    "\n",
    "# optionally define the schema\n",
    "\n",
    "\n",
    "USING DELTA \n",
    "\n",
    "COMMENT \"Live Bronze table for LoanApplications\"\n",
    "\n",
    "AS\n",
    "\n",
    "SELECT  user_id::Int, loan_status::String, principal::Double,balance::Double,\n",
    "        defaulted::Boolean, repaid::Double, loan_reason::String,application_date::Date,\n",
    "        approval_date::Date, repayment_date::Date, last_payment_date::Date,\n",
    "        rejection_date::Date, is_fradulent::Boolean, next_payment_date::Date,\n",
    "        interest::Double, late_fee::Double, product::String,\n",
    "                                \n",
    "        INPUT_FILE_NAME() AS FileName\n",
    "        CURRENT_TIMESTAMP() AS CreatedOn\n",
    "\n",
    "-- AutoLoader: incrementally picks up new data\n",
    "FROM cloud_files( \n",
    "    \n",
    "                    \"/mtn/datalake/Raw/LoanApplications/\",\n",
    "                    \"csv\",\n",
    "                    map(\"inferSchema\",\"true\")\n",
    "                )"
   ]
  },
  {
   "cell_type": "code",
   "execution_count": null,
   "id": "7dec3284",
   "metadata": {},
   "outputs": [],
   "source": []
  },
  {
   "cell_type": "markdown",
   "id": "2a7b1aaf",
   "metadata": {},
   "source": [
    "### Create streaming bronze view"
   ]
  },
  {
   "cell_type": "code",
   "execution_count": null,
   "id": "453edd63",
   "metadata": {},
   "outputs": [],
   "source": [
    "# Create Bronze view from the bronze table\n",
    "CREATE STREAMING LIVE VIEW LoanApplications_BronzeLiveIncrementalView\n",
    "(    -- Define the constraints\n",
    "    CONSTRAINT Valid_principal EXPECT (principal IS NOT NULL AND principal > 0) ON VIOLATION DROP ROW,\n",
    "    CONSTRAINT Valid_user_id   EXPECT (user_id IS NOT NULL AND user_id > 0) ON VIOLATION FAIL UPDATE,\n",
    "    CONSTRAINT Accepted_applications EXPECT (loan_status != 'REJECTED') ON VIOLATION DROP ROW,\n",
    "    CONSTRAINT Valid_product EXPECT (product IS NOT NULL) ON VIOLATION DROP ROW,\n",
    "\n",
    ")\n",
    "\n",
    "AS\n",
    "\n",
    "SELECT  user_id, loan_status, principal, balance, defaulted, repaid, loan_reason, \n",
    "        approval_date, last_payment_date, interest, late_fee, \n",
    "        product, CreatedOn, \n",
    "        YEAR(approval_date) AS approval_year, \n",
    "        MONTH(approval_date) AS approval_month, DAYOFMONTH(approval_date) AS approval_day,\n",
    "        DATEDIFF(late_payment_date, approval_date) AS loan_duration_in_days,\n",
    "\n",
    "FROM STREAM(live.LoanApplications_BronzeLiveIncremental)"
   ]
  },
  {
   "cell_type": "code",
   "execution_count": null,
   "id": "90258369",
   "metadata": {},
   "outputs": [],
   "source": []
  },
  {
   "cell_type": "markdown",
   "id": "8c4c3a28",
   "metadata": {},
   "source": [
    "### Create streaming silver table"
   ]
  },
  {
   "cell_type": "code",
   "execution_count": null,
   "id": "328f77c3",
   "metadata": {},
   "outputs": [],
   "source": [
    "# Create Silver table\n",
    "CREATE STREAMING LIVE TABLE LoanApplications_SilverLiveIncremental\n",
    "(\n",
    "        user_id                INT         COMMENT 'This is the primary key column',\n",
    "        loan_status            STRING,\n",
    "        principal              DOUBLE,\n",
    "        balance                DOUBLE, \n",
    "        defaulted              STRING,\n",
    "        repaid                 DOUBLE,\n",
    "        loan_reason            STRING,\n",
    "        interest               DOUBLE,\n",
    "        late_fee               DOUBLE,\n",
    "        product                STRING,\n",
    "        CreatedOn              TIMESTAMP,\n",
    "        approval_year          INT,\n",
    "        approval_month         INT,\n",
    "        approval_day           INT,\n",
    "        loan_duration_in_days  INT\n",
    ")\n",
    "\n",
    "USING DELTA"
   ]
  },
  {
   "cell_type": "code",
   "execution_count": null,
   "id": "ccd5eec7",
   "metadata": {},
   "outputs": [],
   "source": []
  },
  {
   "cell_type": "markdown",
   "id": "240a9702",
   "metadata": {},
   "source": [
    "### Merge changes from Bronze to Silver tables incrementally"
   ]
  },
  {
   "cell_type": "code",
   "execution_count": null,
   "id": "6a96f603",
   "metadata": {},
   "outputs": [],
   "source": [
    "# apply changes into table\n",
    "APPLY CHANGES INTO live.LoanApplications_SilverLiveIncremental\n",
    "\n",
    "FROM STREAM(LoanApplications_BronzeLiveIncrementalView)\n",
    "\n",
    "KEYS (user_id)\n",
    "\n",
    "\n",
    "# APPLY AS DELETE WHEN OPERATION = 'DELETE'\n",
    "\n",
    "SEQUENCE BY CreatedOn"
   ]
  },
  {
   "cell_type": "code",
   "execution_count": null,
   "id": "23472b6a",
   "metadata": {},
   "outputs": [],
   "source": []
  },
  {
   "cell_type": "markdown",
   "id": "e4a91f8f",
   "metadata": {},
   "source": [
    "### Create complete gold table - User-wise summary"
   ]
  },
  {
   "cell_type": "code",
   "execution_count": null,
   "id": "309daa5a",
   "metadata": {},
   "outputs": [],
   "source": [
    "CREATE LIVE TABLE LoanApplications_SummaryByUser_GoldLive2\n",
    "\n",
    "AS\n",
    "\n",
    "SELECT  u.user_id, u.first_name, u.last_name, age, u.state, u.education_status, \n",
    "        u.employment_status, u.bank, u.number_of_children, u.owns_car, u.state_of_origin,\n",
    "        u.professional_category, u.monthly_income,\n",
    "        CONCAT_WS(', ', COLLECT_LIST(la.product)) AS loan_products,\n",
    "        COUNT(la.user_id) AS total_applications,\n",
    "        SUM(la.principal) AS total_loan_amount,\n",
    "        SUM(la.balance) AS outstanding_balance,    \n",
    "        SUM(la.defaulted) AS total_amount_defaulted,\n",
    "        SUM(la.repaid) AS total_repaid,\n",
    "        CONCAT_WS(', ', COLLECT_LIST(la.loan_status)) AS loan_history,\n",
    "        AVG(la.loan_duration_in_days) average_loan_duration\n",
    "        \n",
    "FROM live.LoanApplications_SilverLiveIncremental la\n",
    "\n",
    "JOIN live.ExistingUsers_BronzeLive u ON la.user_id = u.user_id\n",
    "\n",
    "GROUP BY    u.user_id, u.first_name, u.last_name, age, u.state, u.education_status,\n",
    "            u.employment_status, u.bank, u.number_of_children, u.owns_car, u.state_of_origin,\n",
    "            u.professional_category, u.monthly_income\n",
    "\n",
    "SUM(la.balance) AS outstanding_balance DESC"
   ]
  }
 ],
 "metadata": {
  "kernelspec": {
   "display_name": "Python 3 (ipykernel)",
   "language": "python",
   "name": "python3"
  },
  "language_info": {
   "codemirror_mode": {
    "name": "ipython",
    "version": 3
   },
   "file_extension": ".py",
   "mimetype": "text/x-python",
   "name": "python",
   "nbconvert_exporter": "python",
   "pygments_lexer": "ipython3",
   "version": "3.10.9"
  }
 },
 "nbformat": 4,
 "nbformat_minor": 5
}
